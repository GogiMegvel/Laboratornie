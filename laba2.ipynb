{
 "cells": [
  {
   "cell_type": "code",
   "execution_count": 15,
   "metadata": {},
   "outputs": [],
   "source": [
    "from operator import xor"
   ]
  },
  {
   "cell_type": "code",
   "execution_count": 16,
   "metadata": {},
   "outputs": [],
   "source": [
    "def change_to_be_hex(s):\n",
    "    return int(s,base=16)\n"
   ]
  },
  {
   "cell_type": "code",
   "execution_count": 17,
   "metadata": {},
   "outputs": [],
   "source": [
    "def Kluch(string,n):\n",
    "    a = string\n",
    "    while len(a) < n:\n",
    "        a+=a\n",
    "    return a[0:n]"
   ]
  },
  {
   "cell_type": "code",
   "execution_count": 18,
   "metadata": {},
   "outputs": [],
   "source": [
    "def Isklili(stringText, SecretKey):\n",
    "    currentKey = Kluch(SecretKey, len(stringText))\n",
    "    res = [chr(ord(a) ^ ord(b)) for a,b in zip(stringText, currentKey)]\n",
    "    return res"
   ]
  },
  {
   "cell_type": "code",
   "execution_count": 19,
   "metadata": {},
   "outputs": [],
   "source": [
    "def zashifrovka(text, password):\n",
    "    return Isklili(text, password)\n",
    "\n",
    "def razshifrovka(text, password):\n",
    "    return Isklili(text, password)"
   ]
  },
  {
   "cell_type": "code",
   "execution_count": 20,
   "metadata": {},
   "outputs": [],
   "source": [
    "zashifrovkaTxt = zashifrovka(\"Текст для шифрования\", \"Ануфрий\")"
   ]
  },
  {
   "cell_type": "code",
   "execution_count": 21,
   "metadata": {},
   "outputs": [],
   "source": [
    "razshifrovkaTxt = razshifrovka(Encrypttext, \"Ануфрий\")"
   ]
  },
  {
   "cell_type": "code",
   "execution_count": 22,
   "metadata": {},
   "outputs": [
    {
     "data": {
      "text/plain": [
       "['2',\n",
       " '\\x08',\n",
       " 'y',\n",
       " '\\x05',\n",
       " '\\x02',\n",
       " 'И',\n",
       " '\\r',\n",
       " '+',\n",
       " 'r',\n",
       " 'ѣ',\n",
       " '\\x0c',\n",
       " 'x',\n",
       " '|',\n",
       " 'y',\n",
       " '.',\n",
       " '\\x0f',\n",
       " 's',\n",
       " 'y',\n",
       " 'x',\n",
       " 'w']"
      ]
     },
     "execution_count": 22,
     "metadata": {},
     "output_type": "execute_result"
    }
   ],
   "source": [
    "zashifrovkaTxt"
   ]
  },
  {
   "cell_type": "code",
   "execution_count": 23,
   "metadata": {},
   "outputs": [
    {
     "data": {
      "text/plain": [
       "['Т',\n",
       " 'е',\n",
       " 'к',\n",
       " 'с',\n",
       " 'т',\n",
       " ' ',\n",
       " 'д',\n",
       " 'л',\n",
       " 'я',\n",
       " ' ',\n",
       " 'ш',\n",
       " 'и',\n",
       " 'ф',\n",
       " 'р',\n",
       " 'о',\n",
       " 'в',\n",
       " 'а',\n",
       " 'н',\n",
       " 'и',\n",
       " 'я']"
      ]
     },
     "execution_count": 23,
     "metadata": {},
     "output_type": "execute_result"
    }
   ],
   "source": [
    "razshifrovkaTxt"
   ]
  },
  {
   "cell_type": "code",
   "execution_count": null,
   "metadata": {},
   "outputs": [],
   "source": []
  }
 ],
 "metadata": {
  "kernelspec": {
   "display_name": "Python 3",
   "language": "python",
   "name": "python3"
  },
  "language_info": {
   "codemirror_mode": {
    "name": "ipython",
    "version": 3
   },
   "file_extension": ".py",
   "mimetype": "text/x-python",
   "name": "python",
   "nbconvert_exporter": "python",
   "pygments_lexer": "ipython3",
   "version": "3.8.3"
  }
 },
 "nbformat": 4,
 "nbformat_minor": 5
}
