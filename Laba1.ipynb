{
 "cells": [
  {
   "cell_type": "code",
   "execution_count": null,
   "metadata": {},
   "outputs": [],
   "source": [
    "import pandas as pd\n",
    "from collections import Counter\n",
    "from itertools import groupby"
   ]
  },
  {
   "cell_type": "code",
   "execution_count": null,
   "metadata": {},
   "outputs": [],
   "source": [
    "alph = list('абвгдеёжзийклмнопрстуфхцчшщъыьэюя ')\n",
    "alph"
   ]
  },
  {
   "cell_type": "code",
   "execution_count": null,
   "metadata": {},
   "outputs": [],
   "source": [
    "def shifr(word):\n",
    "    keyWord = list(word)\n",
    "    print(keyWord)\n",
    "    keyWord.append(alph)\n",
    "    print(keyWord)\n",
    "    keyWord = [a for b in keyWord for a in b]\n",
    "    newList = pd.Series(keyWord).drop_duplicates().tolist()\n",
    "    print(newList)\n",
    "    return newList"
   ]
  },
  {
   "cell_type": "code",
   "execution_count": null,
   "metadata": {},
   "outputs": [],
   "source": [
    "def udalit(text, arr):\n",
    "    text = text.lower()\n",
    "    for x in text:\n",
    "        if x not in arr:\n",
    "            text = text.replace(x,\"\")\n",
    "    return text"
   ]
  },
  {
   "cell_type": "code",
   "execution_count": null,
   "metadata": {},
   "outputs": [],
   "source": [
    "def shifrCesarya(msg, shift):\n",
    "    ret = \"\"\n",
    "    msg = msg.lower()\n",
    "    for x in msg:\n",
    "        if x in SupaDupaAlphSmall:\n",
    "            ind = SupaDupaAlphSmall.index(x)%len(SupaDupaAlphSmall)\n",
    "            ret += SupaDupaAlphSmall[(ind+shift)%len(SupaDupaAlphSmall)]\n",
    "        else:\n",
    "            ret += x\n",
    "    return ret"
   ]
  },
  {
   "cell_type": "code",
   "execution_count": null,
   "metadata": {},
   "outputs": [],
   "source": [
    "\n",
    "def schitatBukvi():\n",
    "    count = 0\n",
    "    for i in range(len(alph)):\n",
    "        count += counter[alph[i]]\n",
    "    return count"
   ]
  },
  {
   "cell_type": "code",
   "execution_count": null,
   "metadata": {},
   "outputs": [],
   "source": [
    "def chastota(count):\n",
    "    arr_my_frequency = []\n",
    "    for i in range(len(alph)):\n",
    "        chastota = counter[alph[i]] / count * 100\n",
    "        arr_my_frequency.append(chastota)\n",
    "    return arr_my_frequency"
   ]
  },
  {
   "cell_type": "code",
   "execution_count": null,
   "metadata": {},
   "outputs": [],
   "source": [
    "def pazshifruemsya(text_for_decrypt, arr_decrypt_letters):\n",
    "    arr_encrypt_text = []                               \n",
    "    arr_encrypt_letters = [' ','о', 'е', 'а', 'и', 'н', 'т', 'с', 'р', 'в', 'л','к', 'м', 'д', 'п', 'у','я', 'з', 'ы', 'б', 'ь', 'ъ', 'г', 'ч','й', 'х', 'ж','ш', 'ю', 'ц', 'щ','э', 'ф']\n",
    "    dictionary = dict(zip(arr_decrypt_letters, arr_encrypt_letters))\n",
    "    for i in text_for_decrypt:\n",
    "        arr_encrypt_text.append(dictionary.get(i))\n",
    "    arr_encrypt_text =[i for i in arr_encrypt_text if i]\n",
    "    text_for_decrypt = ''.join(arr_encrypt_text)\n",
    "    print(text_for_decrypt)"
   ]
  },
  {
   "cell_type": "code",
   "execution_count": null,
   "metadata": {},
   "outputs": [],
   "source": [
    "def skokabukov(text_for_decrypt):\n",
    "    counter = Counter(text_for_decrypt)\n",
    "    arr_decrypt_letters = []\n",
    "    for i in range(len(counter)):\n",
    "        arr_decrypt_letters.append(counter.most_common(len(counter))[i][0])\n",
    "\n",
    "    return arr_decrypt_letters"
   ]
  },
  {
   "cell_type": "code",
   "execution_count": null,
   "metadata": {},
   "outputs": [],
   "source": [
    "shifrAlph = shifr(\"ландыш\")\n",
    "shifrAlph"
   ]
  },
  {
   "cell_type": "code",
   "execution_count": null,
   "metadata": {},
   "outputs": [],
   "source": [
    "with open(\"Bolshoi.txt\", encoding='Windows-1251') as f:\n",
    "    s = f.read()\n",
    "    s = s.replace(\"\\n\", \"\")\n",
    "    s = s.replace(\"\\xa0\",\"\")\n",
    "    s = s.replace(\"ё\",\"е\")"
   ]
  },
  {
   "cell_type": "code",
   "execution_count": null,
   "metadata": {},
   "outputs": [],
   "source": [
    "s = udalit(s, shifrAlph) "
   ]
  },
  {
   "cell_type": "code",
   "execution_count": null,
   "metadata": {},
   "outputs": [],
   "source": [
    "text = shifrCesarya(s, 7)"
   ]
  },
  {
   "cell_type": "code",
   "execution_count": null,
   "metadata": {},
   "outputs": [],
   "source": [
    "counter = Counter(text)"
   ]
  },
  {
   "cell_type": "code",
   "execution_count": null,
   "metadata": {},
   "outputs": [],
   "source": [
    "arr_decrypt_letters = skokabukov(text)\n",
    "abc = dict(zip(arr_decrypt_letters, alph))\n",
    "\n",
    "new_llst = [el for el, _ in groupby(abc)]\n",
    "\n",
    "new_llst = list(abc.keys())"
   ]
  },
  {
   "cell_type": "code",
   "execution_count": null,
   "metadata": {},
   "outputs": [],
   "source": [
    "arr_decrypt_letters = new_llst"
   ]
  },
  {
   "cell_type": "code",
   "execution_count": null,
   "metadata": {},
   "outputs": [],
   "source": [
    "schitatBukvi()"
   ]
  },
  {
   "cell_type": "code",
   "execution_count": null,
   "metadata": {},
   "outputs": [],
   "source": [
    "chastota(schitatBukvi())"
   ]
  },
  {
   "cell_type": "code",
   "execution_count": null,
   "metadata": {
    "scrolled": true
   },
   "outputs": [],
   "source": [
    "pazshifruemsya(text, arr_decrypt_letters)"
   ]
  },
  {
   "cell_type": "code",
   "execution_count": null,
   "metadata": {},
   "outputs": [],
   "source": []
  }
 ],
 "metadata": {
  "kernelspec": {
   "display_name": "Python 3",
   "language": "python",
   "name": "python3"
  },
  "language_info": {
   "codemirror_mode": {
    "name": "ipython",
    "version": 3
   },
   "file_extension": ".py",
   "mimetype": "text/x-python",
   "name": "python",
   "nbconvert_exporter": "python",
   "pygments_lexer": "ipython3",
   "version": "3.8.3"
  }
 },
 "nbformat": 4,
 "nbformat_minor": 4
}
